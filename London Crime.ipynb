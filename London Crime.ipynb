{
 "cells": [
  {
   "cell_type": "code",
   "execution_count": 1,
   "metadata": {},
   "outputs": [],
   "source": [
    "from pyspark.sql import SparkSession"
   ]
  },
  {
   "cell_type": "code",
   "execution_count": 3,
   "metadata": {},
   "outputs": [],
   "source": [
    "spark = SparkSession.builder\\\n",
    "                    .appName(\"Analyzing London crime data\")\\\n",
    "                    .getOrCreate()"
   ]
  },
  {
   "cell_type": "code",
   "execution_count": 4,
   "metadata": {},
   "outputs": [],
   "source": [
    "data = spark.read\\\n",
    "            .format(\"csv\")\\\n",
    "            .option(\"header\",\"true\")\\\n",
    "            .load(\"/home/yashchhabria/Downloads/london_crime_by_lsoa.csv\") "
   ]
  },
  {
   "cell_type": "code",
   "execution_count": 5,
   "metadata": {},
   "outputs": [
    {
     "name": "stdout",
     "output_type": "stream",
     "text": [
      "root\n",
      " |-- lsoa_code: string (nullable = true)\n",
      " |-- borough: string (nullable = true)\n",
      " |-- major_category: string (nullable = true)\n",
      " |-- minor_category: string (nullable = true)\n",
      " |-- value: string (nullable = true)\n",
      " |-- year: string (nullable = true)\n",
      " |-- month: string (nullable = true)\n",
      "\n"
     ]
    }
   ],
   "source": [
    "data.printSchema()"
   ]
  },
  {
   "cell_type": "code",
   "execution_count": 6,
   "metadata": {},
   "outputs": [
    {
     "data": {
      "text/plain": [
       "13490604"
      ]
     },
     "execution_count": 6,
     "metadata": {},
     "output_type": "execute_result"
    }
   ],
   "source": [
    "data.count()"
   ]
  },
  {
   "cell_type": "code",
   "execution_count": 7,
   "metadata": {},
   "outputs": [
    {
     "name": "stdout",
     "output_type": "stream",
     "text": [
      "+---------+----------+--------------------+--------------------+-----+----+-----+\n",
      "|lsoa_code|   borough|      major_category|      minor_category|value|year|month|\n",
      "+---------+----------+--------------------+--------------------+-----+----+-----+\n",
      "|E01001116|   Croydon|            Burglary|Burglary in Other...|    0|2016|   11|\n",
      "|E01001646| Greenwich|Violence Against ...|      Other violence|    0|2016|   11|\n",
      "|E01000677|   Bromley|Violence Against ...|      Other violence|    0|2015|    5|\n",
      "|E01003774| Redbridge|            Burglary|Burglary in Other...|    0|2016|    3|\n",
      "|E01004563|Wandsworth|             Robbery|   Personal Property|    0|2008|    6|\n",
      "+---------+----------+--------------------+--------------------+-----+----+-----+\n",
      "\n"
     ]
    }
   ],
   "source": [
    "data.limit(5).show()"
   ]
  },
  {
   "cell_type": "code",
   "execution_count": 8,
   "metadata": {},
   "outputs": [
    {
     "name": "stdout",
     "output_type": "stream",
     "text": [
      "+---------+--------------------+--------------------+--------------------+-----+----+-----+\n",
      "|lsoa_code|             borough|      major_category|      minor_category|value|year|month|\n",
      "+---------+--------------------+--------------------+--------------------+-----+----+-----+\n",
      "|E01001116|             Croydon|            Burglary|Burglary in Other...|    0|2016|   11|\n",
      "|E01001646|           Greenwich|Violence Against ...|      Other violence|    0|2016|   11|\n",
      "|E01000677|             Bromley|Violence Against ...|      Other violence|    0|2015|    5|\n",
      "|E01003774|           Redbridge|            Burglary|Burglary in Other...|    0|2016|    3|\n",
      "|E01004563|          Wandsworth|             Robbery|   Personal Property|    0|2008|    6|\n",
      "|E01001320|              Ealing|  Theft and Handling|         Other Theft|    0|2012|    5|\n",
      "|E01001342|              Ealing|Violence Against ...|    Offensive Weapon|    0|2010|    7|\n",
      "|E01002633|            Hounslow|             Robbery|   Personal Property|    0|2013|    4|\n",
      "|E01003496|              Newham|     Criminal Damage|Criminal Damage T...|    0|2013|    9|\n",
      "|E01004177|              Sutton|  Theft and Handling|Theft/Taking of P...|    1|2016|    8|\n",
      "|E01001985|            Haringey|  Theft and Handling|Motor Vehicle Int...|    0|2013|   12|\n",
      "|E01003076|             Lambeth|Violence Against ...|      Other violence|    0|2015|    4|\n",
      "|E01003852|Richmond upon Thames|             Robbery|   Personal Property|    0|2014|    1|\n",
      "|E01004547|          Wandsworth|Violence Against ...|    Offensive Weapon|    0|2011|   10|\n",
      "|E01002398|          Hillingdon|  Theft and Handling|Theft/Taking Of M...|    0|2016|    2|\n",
      "|E01002358|            Havering|Violence Against ...|        Wounding/GBH|    0|2012|    2|\n",
      "|E01000086|Barking and Dagenham|  Theft and Handling|  Other Theft Person|    1|2009|    5|\n",
      "|E01003708|           Redbridge|Violence Against ...|      Common Assault|    0|2009|    6|\n",
      "|E01002945|Kingston upon Thames|  Theft and Handling|    Theft From Shops|    0|2016|   11|\n",
      "|E01004195|              Sutton|               Drugs| Possession Of Drugs|    0|2009|   10|\n",
      "+---------+--------------------+--------------------+--------------------+-----+----+-----+\n",
      "only showing top 20 rows\n",
      "\n"
     ]
    }
   ],
   "source": [
    "data.show()"
   ]
  },
  {
   "cell_type": "code",
   "execution_count": 9,
   "metadata": {},
   "outputs": [
    {
     "data": {
      "text/plain": [
       "DataFrame[lsoa_code: string, borough: string, major_category: string, minor_category: string, value: string, year: string, month: string]"
      ]
     },
     "execution_count": 9,
     "metadata": {},
     "output_type": "execute_result"
    }
   ],
   "source": [
    "data.dropna()"
   ]
  },
  {
   "cell_type": "code",
   "execution_count": 10,
   "metadata": {},
   "outputs": [
    {
     "name": "stdout",
     "output_type": "stream",
     "text": [
      "+----------+--------------------+--------------------+-----+----+-----+\n",
      "|   borough|      major_category|      minor_category|value|year|month|\n",
      "+----------+--------------------+--------------------+-----+----+-----+\n",
      "|   Croydon|            Burglary|Burglary in Other...|    0|2016|   11|\n",
      "| Greenwich|Violence Against ...|      Other violence|    0|2016|   11|\n",
      "|   Bromley|Violence Against ...|      Other violence|    0|2015|    5|\n",
      "| Redbridge|            Burglary|Burglary in Other...|    0|2016|    3|\n",
      "|Wandsworth|             Robbery|   Personal Property|    0|2008|    6|\n",
      "+----------+--------------------+--------------------+-----+----+-----+\n",
      "only showing top 5 rows\n",
      "\n"
     ]
    }
   ],
   "source": [
    "data = data.drop(\"lsoa_code\")\n",
    "data.show(5)"
   ]
  },
  {
   "cell_type": "code",
   "execution_count": 13,
   "metadata": {},
   "outputs": [
    {
     "data": {
      "text/plain": [
       "[Row(borough='Croydon'),\n",
       " Row(borough='Wandsworth'),\n",
       " Row(borough='Bexley'),\n",
       " Row(borough='Lambeth'),\n",
       " Row(borough='Barking and Dagenham'),\n",
       " Row(borough='Camden'),\n",
       " Row(borough='Greenwich'),\n",
       " Row(borough='Newham'),\n",
       " Row(borough='Tower Hamlets'),\n",
       " Row(borough='Hounslow'),\n",
       " Row(borough='Barnet'),\n",
       " Row(borough='Harrow'),\n",
       " Row(borough='Kensington and Chelsea'),\n",
       " Row(borough='Islington'),\n",
       " Row(borough='Brent'),\n",
       " Row(borough='Haringey'),\n",
       " Row(borough='Bromley'),\n",
       " Row(borough='Merton'),\n",
       " Row(borough='Westminster'),\n",
       " Row(borough='Hackney'),\n",
       " Row(borough='Southwark'),\n",
       " Row(borough='Enfield'),\n",
       " Row(borough='Ealing'),\n",
       " Row(borough='Sutton'),\n",
       " Row(borough='Hammersmith and Fulham'),\n",
       " Row(borough='Kingston upon Thames'),\n",
       " Row(borough='Havering'),\n",
       " Row(borough='Hillingdon'),\n",
       " Row(borough='Waltham Forest'),\n",
       " Row(borough='Richmond upon Thames'),\n",
       " Row(borough='Redbridge'),\n",
       " Row(borough='City of London'),\n",
       " Row(borough='Lewisham')]"
      ]
     },
     "execution_count": 13,
     "metadata": {},
     "output_type": "execute_result"
    }
   ],
   "source": [
    "total = data.select(\"borough\")\\\n",
    "            .distinct()\n",
    "total.collect()"
   ]
  },
  {
   "cell_type": "code",
   "execution_count": 14,
   "metadata": {},
   "outputs": [
    {
     "data": {
      "text/plain": [
       "33"
      ]
     },
     "execution_count": 14,
     "metadata": {},
     "output_type": "execute_result"
    }
   ],
   "source": [
    "total.count()"
   ]
  },
  {
   "cell_type": "code",
   "execution_count": 15,
   "metadata": {},
   "outputs": [
    {
     "name": "stdout",
     "output_type": "stream",
     "text": [
      "+-------+--------------------+--------------------+-----+----+-----+\n",
      "|borough|      major_category|      minor_category|value|year|month|\n",
      "+-------+--------------------+--------------------+-----+----+-----+\n",
      "|Hackney|     Criminal Damage|Criminal Damage T...|    0|2011|    6|\n",
      "|Hackney|Violence Against ...|          Harassment|    1|2013|    2|\n",
      "|Hackney|     Criminal Damage|Other Criminal Da...|    0|2011|    7|\n",
      "|Hackney|Violence Against ...|        Wounding/GBH|    0|2013|   12|\n",
      "|Hackney|  Theft and Handling|  Other Theft Person|    0|2016|    8|\n",
      "+-------+--------------------+--------------------+-----+----+-----+\n",
      "only showing top 5 rows\n",
      "\n"
     ]
    }
   ],
   "source": [
    "datahack = data.filter(data[\"borough\"]==\"Hackney\")\n",
    "datahack.show(5)"
   ]
  },
  {
   "cell_type": "code",
   "execution_count": 16,
   "metadata": {},
   "outputs": [],
   "source": [
    "datayear = data.filter(data[\"year\"].isin([\"2015\",\"2016\"])) "
   ]
  },
  {
   "cell_type": "code",
   "execution_count": 17,
   "metadata": {},
   "outputs": [
    {
     "name": "stdout",
     "output_type": "stream",
     "text": [
      "+--------------------+--------------------+--------------------+-----+----+-----+\n",
      "|             borough|      major_category|      minor_category|value|year|month|\n",
      "+--------------------+--------------------+--------------------+-----+----+-----+\n",
      "|             Croydon|            Burglary|Burglary in Other...|    0|2016|   11|\n",
      "|           Greenwich|Violence Against ...|      Other violence|    0|2016|   11|\n",
      "|             Bromley|Violence Against ...|      Other violence|    0|2015|    5|\n",
      "|           Redbridge|            Burglary|Burglary in Other...|    0|2016|    3|\n",
      "|              Sutton|  Theft and Handling|Theft/Taking of P...|    1|2016|    8|\n",
      "|             Lambeth|Violence Against ...|      Other violence|    0|2015|    4|\n",
      "|          Hillingdon|  Theft and Handling|Theft/Taking Of M...|    0|2016|    2|\n",
      "|Kingston upon Thames|  Theft and Handling|    Theft From Shops|    0|2016|   11|\n",
      "|            Haringey|Violence Against ...|        Wounding/GBH|    0|2015|   12|\n",
      "|            Lewisham|Violence Against ...|      Common Assault|    0|2016|    2|\n",
      "|            Hounslow|     Criminal Damage|Criminal Damage T...|    0|2015|    2|\n",
      "|             Bromley|     Criminal Damage|Criminal Damage T...|    1|2016|    4|\n",
      "|            Haringey|     Criminal Damage|Criminal Damage T...|    0|2016|   12|\n",
      "|           Southwark|               Drugs| Possession Of Drugs|    0|2015|    3|\n",
      "|            Havering|    Fraud or Forgery|  Counted per Victim|    0|2015|   11|\n",
      "|      Waltham Forest|Other Notifiable ...|      Going Equipped|    0|2015|    2|\n",
      "|              Ealing|             Robbery|   Personal Property|    0|2015|    7|\n",
      "|               Brent|  Theft and Handling|Motor Vehicle Int...|    0|2015|    9|\n",
      "|            Hounslow|Violence Against ...|        Wounding/GBH|    2|2015|    8|\n",
      "|           Southwark|  Theft and Handling|    Theft From Shops|    4|2016|    8|\n",
      "+--------------------+--------------------+--------------------+-----+----+-----+\n",
      "only showing top 20 rows\n",
      "\n"
     ]
    }
   ],
   "source": [
    "datayear.show()"
   ]
  },
  {
   "cell_type": "code",
   "execution_count": 19,
   "metadata": {},
   "outputs": [
    {
     "data": {
      "text/plain": [
       "DataFrame[borough: string, major_category: string, minor_category: string, value: string, year: string, month: string]"
      ]
     },
     "execution_count": 19,
     "metadata": {},
     "output_type": "execute_result"
    }
   ],
   "source": [
    "datayear.sample(fraction=0.1)"
   ]
  },
  {
   "cell_type": "code",
   "execution_count": 20,
   "metadata": {},
   "outputs": [],
   "source": [
    "datagr= data.groupby(\"borough\")\\\n",
    "            .count()     "
   ]
  },
  {
   "cell_type": "code",
   "execution_count": 21,
   "metadata": {},
   "outputs": [
    {
     "name": "stdout",
     "output_type": "stream",
     "text": [
      "+--------------------+------+\n",
      "|             borough| count|\n",
      "+--------------------+------+\n",
      "|             Croydon|602100|\n",
      "|          Wandsworth|498636|\n",
      "|              Bexley|385668|\n",
      "|             Lambeth|519048|\n",
      "|Barking and Dagenham|311040|\n",
      "|              Camden|378432|\n",
      "|           Greenwich|421200|\n",
      "|              Newham|471420|\n",
      "|       Tower Hamlets|412128|\n",
      "|            Hounslow|395928|\n",
      "|              Barnet|572832|\n",
      "|              Harrow|365688|\n",
      "|Kensington and Ch...|296784|\n",
      "|           Islington|359208|\n",
      "|               Brent|490644|\n",
      "|            Haringey|413856|\n",
      "|             Bromley|523908|\n",
      "|              Merton|339876|\n",
      "|         Westminster|366660|\n",
      "|             Hackney|417744|\n",
      "+--------------------+------+\n",
      "only showing top 20 rows\n",
      "\n"
     ]
    }
   ],
   "source": [
    "datagr.show()"
   ]
  },
  {
   "cell_type": "code",
   "execution_count": 26,
   "metadata": {},
   "outputs": [
    {
     "name": "stdout",
     "output_type": "stream",
     "text": [
      "+--------------------+-----------+\n",
      "|             borough|convictions|\n",
      "+--------------------+-----------+\n",
      "|             Croydon|   260294.0|\n",
      "|          Wandsworth|   204741.0|\n",
      "|              Bexley|   114136.0|\n",
      "|             Lambeth|   292178.0|\n",
      "|Barking and Dagenham|   149447.0|\n",
      "|              Camden|   275147.0|\n",
      "|           Greenwich|   181568.0|\n",
      "|              Newham|   262024.0|\n",
      "|       Tower Hamlets|   228613.0|\n",
      "|            Hounslow|   186772.0|\n",
      "|              Barnet|   212191.0|\n",
      "|              Harrow|   116848.0|\n",
      "|Kensington and Ch...|   171981.0|\n",
      "|           Islington|   230286.0|\n",
      "|               Brent|   227551.0|\n",
      "|            Haringey|   213272.0|\n",
      "|             Bromley|   184349.0|\n",
      "|              Merton|   115654.0|\n",
      "|         Westminster|   455028.0|\n",
      "|             Hackney|   217119.0|\n",
      "+--------------------+-----------+\n",
      "only showing top 20 rows\n",
      "\n"
     ]
    }
   ],
   "source": [
    "datasum = data.groupby(\"borough\")\\\n",
    "              .agg({\"value\":\"sum\"})\\\n",
    "              .withColumnRenamed(\"sum(value)\",\"convictions\")  \n",
    "datasum.show()"
   ]
  },
  {
   "cell_type": "code",
   "execution_count": 29,
   "metadata": {},
   "outputs": [
    {
     "name": "stdout",
     "output_type": "stream",
     "text": [
      "+----------------+\n",
      "|sum(convictions)|\n",
      "+----------------+\n",
      "|       6447758.0|\n",
      "+----------------+\n",
      "\n"
     ]
    }
   ],
   "source": [
    "datacons = datasum.agg({\"convictions\":\"sum\"})\n",
    "datacons.show()"
   ]
  },
  {
   "cell_type": "code",
   "execution_count": 30,
   "metadata": {},
   "outputs": [
    {
     "data": {
      "text/plain": [
       "6447758.0"
      ]
     },
     "execution_count": 30,
     "metadata": {},
     "output_type": "execute_result"
    }
   ],
   "source": [
    "totalcon = datacons.collect()[0][0]\n",
    "totalcon"
   ]
  },
  {
   "cell_type": "code",
   "execution_count": 32,
   "metadata": {},
   "outputs": [],
   "source": [
    "import pyspark.sql.functions as func"
   ]
  },
  {
   "cell_type": "code",
   "execution_count": 35,
   "metadata": {},
   "outputs": [
    {
     "name": "stdout",
     "output_type": "stream",
     "text": [
      "+--------------------+-----------+--------+\n",
      "|             borough|convictions|% contri|\n",
      "+--------------------+-----------+--------+\n",
      "|             Croydon|   260294.0|    4.04|\n",
      "|          Wandsworth|   204741.0|    3.18|\n",
      "|              Bexley|   114136.0|    1.77|\n",
      "|             Lambeth|   292178.0|    4.53|\n",
      "|Barking and Dagenham|   149447.0|    2.32|\n",
      "|              Camden|   275147.0|    4.27|\n",
      "|           Greenwich|   181568.0|    2.82|\n",
      "|              Newham|   262024.0|    4.06|\n",
      "|       Tower Hamlets|   228613.0|    3.55|\n",
      "|            Hounslow|   186772.0|     2.9|\n",
      "|              Barnet|   212191.0|    3.29|\n",
      "|              Harrow|   116848.0|    1.81|\n",
      "|Kensington and Ch...|   171981.0|    2.67|\n",
      "|           Islington|   230286.0|    3.57|\n",
      "|               Brent|   227551.0|    3.53|\n",
      "|            Haringey|   213272.0|    3.31|\n",
      "|             Bromley|   184349.0|    2.86|\n",
      "|              Merton|   115654.0|    1.79|\n",
      "|         Westminster|   455028.0|    7.06|\n",
      "|             Hackney|   217119.0|    3.37|\n",
      "+--------------------+-----------+--------+\n",
      "only showing top 20 rows\n",
      "\n"
     ]
    }
   ],
   "source": [
    "#withcolumn creates new columns \n",
    "boro_per = datasum.withColumn(\n",
    "    \"% contri\",\n",
    "    func.round(datasum.convictions/totalcon*100,2))\n",
    "boro_per.show()"
   ]
  },
  {
   "cell_type": "code",
   "execution_count": 36,
   "metadata": {},
   "outputs": [
    {
     "name": "stdout",
     "output_type": "stream",
     "text": [
      "+--------------------+-----------+--------+\n",
      "|             borough|convictions|% contri|\n",
      "+--------------------+-----------+--------+\n",
      "|         Westminster|   455028.0|    7.06|\n",
      "|             Lambeth|   292178.0|    4.53|\n",
      "|           Southwark|   278809.0|    4.32|\n",
      "|              Camden|   275147.0|    4.27|\n",
      "|              Newham|   262024.0|    4.06|\n",
      "|             Croydon|   260294.0|    4.04|\n",
      "|              Ealing|   251562.0|     3.9|\n",
      "|           Islington|   230286.0|    3.57|\n",
      "|       Tower Hamlets|   228613.0|    3.55|\n",
      "|               Brent|   227551.0|    3.53|\n",
      "|             Hackney|   217119.0|    3.37|\n",
      "|            Lewisham|   215137.0|    3.34|\n",
      "|            Haringey|   213272.0|    3.31|\n",
      "|              Barnet|   212191.0|    3.29|\n",
      "|          Hillingdon|   209680.0|    3.25|\n",
      "|          Wandsworth|   204741.0|    3.18|\n",
      "|      Waltham Forest|   203879.0|    3.16|\n",
      "|             Enfield|   193880.0|    3.01|\n",
      "|            Hounslow|   186772.0|     2.9|\n",
      "|Hammersmith and F...|   185259.0|    2.87|\n",
      "+--------------------+-----------+--------+\n",
      "only showing top 20 rows\n",
      "\n"
     ]
    }
   ],
   "source": [
    "boro_per.orderBy(boro_per[2].desc())\\\n",
    "        .show()"
   ]
  },
  {
   "cell_type": "code",
   "execution_count": null,
   "metadata": {
    "collapsed": true
   },
   "outputs": [],
   "source": [
    "data.crosstab(\"borough\",\"major_category\")\\\n"
   ]
  }
 ],
 "metadata": {
  "kernelspec": {
   "display_name": "Python 3",
   "language": "python",
   "name": "python3"
  },
  "language_info": {
   "codemirror_mode": {
    "name": "ipython",
    "version": 3
   },
   "file_extension": ".py",
   "mimetype": "text/x-python",
   "name": "python",
   "nbconvert_exporter": "python",
   "pygments_lexer": "ipython3",
   "version": "3.7.3"
  }
 },
 "nbformat": 4,
 "nbformat_minor": 2
}
